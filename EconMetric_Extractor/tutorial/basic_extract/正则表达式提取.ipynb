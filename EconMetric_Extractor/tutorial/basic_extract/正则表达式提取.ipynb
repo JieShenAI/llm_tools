{
 "cells": [
  {
   "cell_type": "code",
   "execution_count": null,
   "metadata": {},
   "outputs": [],
   "source": []
  },
  {
   "cell_type": "code",
   "execution_count": 1,
   "metadata": {},
   "outputs": [
    {
     "data": {
      "text/plain": [
       "[('第二产业', '5365.53'), ('第三产业', '8514.55')]"
      ]
     },
     "execution_count": 1,
     "metadata": {},
     "output_type": "execute_result"
    }
   ],
   "source": [
    "import re\n",
    "\n",
    "text = \"\"\"初步核算，全年地区生产总值［2］14331.98亿元，比上年增长4.8％。分产业看，第一产业增加值451.89亿元，比上年增长3.5％；\n",
    "第二产业增加值5365.53亿元，增长5.6％；第三产业增加值8514.55亿元，增长4.3％。第一、二、三产业对经济增长的贡献率分别为2.6％、45.8％和51.6％。\n",
    "第一、二、三产业增加值占地区生产总值的比重分别为3.2％、37.4％和59.4％。\"\"\"\n",
    "\n",
    "res = re.findall(\"；\\n*(.*?)增加值(\\d+\\.?\\d*)\", text)\n",
    "res"
   ]
  },
  {
   "cell_type": "code",
   "execution_count": null,
   "metadata": {},
   "outputs": [
    {
     "data": {
      "text/plain": [
       "[('第二产业', '5365.53'), ('第三产业', '8514.55')]"
      ]
     },
     "execution_count": 36,
     "metadata": {},
     "output_type": "execute_result"
    }
   ],
   "source": [
    "res = re.findall(\"；\\n*(.*?)增加值(\\d+\\.?\\d*)\", text)\n",
    "res"
   ]
  },
  {
   "cell_type": "code",
   "execution_count": 37,
   "metadata": {},
   "outputs": [],
   "source": [
    "re.search(r'生产总值(\\d+)', text)"
   ]
  },
  {
   "cell_type": "markdown",
   "metadata": {},
   "source": [
    "文本结构变化大，有干扰字符的文本，使用正则表达式难以提取：\n",
    "* `全年地区生产总值［2］14331.98亿元`\n",
    "* `全年地区GDP 14331.98亿元`\n",
    "* `全年地区GDP： 14331.98亿元`"
   ]
  },
  {
   "cell_type": "markdown",
   "metadata": {},
   "source": []
  }
 ],
 "metadata": {
  "kernelspec": {
   "display_name": "base",
   "language": "python",
   "name": "python3"
  },
  "language_info": {
   "codemirror_mode": {
    "name": "ipython",
    "version": 3
   },
   "file_extension": ".py",
   "mimetype": "text/x-python",
   "name": "python",
   "nbconvert_exporter": "python",
   "pygments_lexer": "ipython3",
   "version": "3.11.7"
  }
 },
 "nbformat": 4,
 "nbformat_minor": 2
}
