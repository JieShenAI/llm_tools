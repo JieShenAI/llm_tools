{
 "cells": [
  {
   "cell_type": "code",
   "execution_count": 1,
   "metadata": {},
   "outputs": [],
   "source": [
    "import re"
   ]
  },
  {
   "cell_type": "markdown",
   "metadata": {},
   "source": [
    "GDP的提取"
   ]
  },
  {
   "cell_type": "markdown",
   "metadata": {},
   "source": [
    "正则表达式的 `?:` 代表只匹配不捕获，不会单独拆分出一个组"
   ]
  },
  {
   "cell_type": "code",
   "execution_count": 8,
   "metadata": {},
   "outputs": [
    {
     "name": "stdout",
     "output_type": "stream",
     "text": [
      "生产总值14331.98\n",
      "生产总值 14331.98\n",
      "GDP   14331.98\n",
      "not found\n"
     ]
    }
   ],
   "source": [
    "texts = [\n",
    "        \"全年地区生产总值14331.98亿元\",\n",
    "        \"全年地区生产总值 14331.98亿元\",\n",
    "        \"全年地区GDP   14331.98亿元\",\n",
    "        \"全年地区消费 14331.98亿元\"\n",
    "    ]\n",
    "\n",
    "# 定义一个正则表达式，匹配“生产总值”或“GDP”后面的数字\n",
    "pattern = r'(生产总值|GDP)\\s*([0-9]+(?:\\.[0-9]+)?)'\n",
    "\n",
    "for text in texts:\n",
    "    res = re.search(pattern, text)\n",
    "    if res:\n",
    "        print(res.group(0))\n",
    "    else:\n",
    "        print(\"not found\")"
   ]
  },
  {
   "cell_type": "code",
   "execution_count": 9,
   "metadata": {},
   "outputs": [
    {
     "name": "stdout",
     "output_type": "stream",
     "text": [
      "生产总值\n",
      "生产总值\n",
      "GDP\n",
      "not found\n"
     ]
    }
   ],
   "source": [
    "for text in texts:\n",
    "    res = re.search(pattern, text)\n",
    "    if res:\n",
    "        print(res.group(1))\n",
    "    else:\n",
    "        print(\"not found\")"
   ]
  },
  {
   "cell_type": "code",
   "execution_count": 10,
   "metadata": {},
   "outputs": [
    {
     "name": "stdout",
     "output_type": "stream",
     "text": [
      "14331.98\n",
      "14331.98\n",
      "14331.98\n",
      "not found\n"
     ]
    }
   ],
   "source": [
    "for text in texts:\n",
    "    res = re.search(pattern, text)\n",
    "    if res:\n",
    "        print(res.group(2))\n",
    "    else:\n",
    "        print(\"not found\")"
   ]
  },
  {
   "cell_type": "markdown",
   "metadata": {},
   "source": [
    "删去 ?:"
   ]
  },
  {
   "cell_type": "code",
   "execution_count": 12,
   "metadata": {},
   "outputs": [
    {
     "ename": "IndexError",
     "evalue": "no such group",
     "output_type": "error",
     "traceback": [
      "\u001b[0;31m---------------------------------------------------------------------------\u001b[0m",
      "\u001b[0;31mIndexError\u001b[0m                                Traceback (most recent call last)",
      "Cell \u001b[0;32mIn[12], line 5\u001b[0m\n\u001b[1;32m      3\u001b[0m res \u001b[38;5;241m=\u001b[39m re\u001b[38;5;241m.\u001b[39msearch(pattern, text)\n\u001b[1;32m      4\u001b[0m \u001b[38;5;28;01mif\u001b[39;00m res:\n\u001b[0;32m----> 5\u001b[0m     \u001b[38;5;28mprint\u001b[39m(res\u001b[38;5;241m.\u001b[39mgroup(\u001b[38;5;241m3\u001b[39m))\n\u001b[1;32m      6\u001b[0m \u001b[38;5;28;01melse\u001b[39;00m:\n\u001b[1;32m      7\u001b[0m     \u001b[38;5;28mprint\u001b[39m(\u001b[38;5;124m\"\u001b[39m\u001b[38;5;124mnot found\u001b[39m\u001b[38;5;124m\"\u001b[39m)\n",
      "\u001b[0;31mIndexError\u001b[0m: no such group"
     ]
    }
   ],
   "source": [
    "# 定义一个正则表达式，匹配“生产总值”或“GDP”后面的数字\n",
    "for text in texts:\n",
    "    res = re.search(pattern, text)\n",
    "    if res:\n",
    "        print(res.group(3))\n",
    "    else:\n",
    "        print(\"not found\")"
   ]
  },
  {
   "cell_type": "code",
   "execution_count": 13,
   "metadata": {},
   "outputs": [
    {
     "name": "stdout",
     "output_type": "stream",
     "text": [
      ".98\n",
      ".98\n",
      ".98\n",
      "not found\n"
     ]
    }
   ],
   "source": [
    "test_pattern = r'(生产总值|GDP)\\s*([0-9]+(\\.[0-9]+)?)'\n",
    "# 定义一个正则表达式，匹配“生产总值”或“GDP”后面的数字\n",
    "for text in texts:\n",
    "    res = re.search(test_pattern, text)\n",
    "    if res:\n",
    "        print(res.group(3))\n",
    "    else:\n",
    "        print(\"not found\")"
   ]
  },
  {
   "cell_type": "markdown",
   "metadata": {},
   "source": [
    "通用匹配，匹配某个值增加了多少"
   ]
  },
  {
   "cell_type": "code",
   "execution_count": 14,
   "metadata": {},
   "outputs": [
    {
     "data": {
      "text/plain": [
       "[('第一产业', '451.89'),\n",
       " ('第二产业', '5365.53'),\n",
       " ('第三产业', '8514.55'),\n",
       " ('第一、二、三产业', '')]"
      ]
     },
     "execution_count": 14,
     "metadata": {},
     "output_type": "execute_result"
    }
   ],
   "source": [
    "text = \"\"\"初步核算，全年地区生产总值［2］14331.98亿元，比上年增长4.8％。分产业看，第一产业增加值451.89亿元，比上年增长3.5％；\n",
    "第二产业增加值5365.53亿元，增长5.6％；第三产业增加值8514.55亿元，增长4.3％。第一、二、三产业对经济增长的贡献率分别为2.6％、45.8％和51.6％。\n",
    "第一、二、三产业增加值占地区生产总值的比重分别为3.2％、37.4％和59.4％。\"\"\"\n",
    "\n",
    "general_pattern = r\"([^\\n;；，。]*?)增加值\\s*(\\d+(?:\\.?\\d+))*\"\n",
    "res = re.findall(general_pattern, text)\n",
    "res"
   ]
  },
  {
   "cell_type": "markdown",
   "metadata": {},
   "source": [
    "文本结构变化大，有干扰字符的文本，使用正则表达式难以提取：\n",
    "* `全年地区生产总值［2］14331.98亿元`\n",
    "* `全年地区GDP 14331.98亿元`\n",
    "* `全年地区GDP： 14331.98亿元`"
   ]
  },
  {
   "cell_type": "markdown",
   "metadata": {},
   "source": []
  }
 ],
 "metadata": {
  "kernelspec": {
   "display_name": "base",
   "language": "python",
   "name": "python3"
  },
  "language_info": {
   "codemirror_mode": {
    "name": "ipython",
    "version": 3
   },
   "file_extension": ".py",
   "mimetype": "text/x-python",
   "name": "python",
   "nbconvert_exporter": "python",
   "pygments_lexer": "ipython3",
   "version": "3.11.7"
  }
 },
 "nbformat": 4,
 "nbformat_minor": 2
}
