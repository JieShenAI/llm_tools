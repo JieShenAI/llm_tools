{
 "cells": [
  {
   "cell_type": "code",
   "execution_count": null,
   "metadata": {},
   "outputs": [],
   "source": [
    "import requests\n",
    "import pandas as pd\n",
    "from bs4 import BeautifulSoup\n",
    "\n",
    "def extract_tables_from_url(url):\n",
    "    # 发送 HTTP 请求获取网页内容\n",
    "    response = requests.get(url)\n",
    "    response.raise_for_status()  # 确保请求成功\n",
    "    \n",
    "    # 解析网页内容\n",
    "    soup = BeautifulSoup(response.text, 'html.parser')\n",
    "    tables = soup.find_all('table')  # 查找所有表格\n",
    "    \n",
    "    # 存储提取的表格数据\n",
    "    dataframes = []\n",
    "    for table in tables:\n",
    "        df = pd.read_html(str(table))[0]  # 解析表格\n",
    "        dataframes.append(df)\n",
    "    \n",
    "    return dataframes\n",
    "\n",
    "# 示例用法\n",
    "url = \"https://example.com\"\n",
    "tables = extract_tables_from_url(url)\n",
    "\n",
    "# 打印所有表格\n",
    "for i, table in enumerate(tables):\n",
    "    print(f\"Table {i+1}:\")\n",
    "    print(table.head())  # 只显示前几行数据\n",
    "    print(\"\\n-------------------\\n\")\n"
   ]
  }
 ],
 "metadata": {
  "language_info": {
   "name": "python"
  }
 },
 "nbformat": 4,
 "nbformat_minor": 2
}
