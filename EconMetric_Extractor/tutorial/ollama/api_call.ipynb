{
 "cells": [
  {
   "cell_type": "code",
   "execution_count": 1,
   "metadata": {},
   "outputs": [],
   "source": [
    "from openai import OpenAI\n",
    "\n",
    "client = OpenAI(base_url=\"http://localhost:11434/v1\")\n",
    "response = client.chat.completions.create(\n",
    "    model=\"deepseek-r1:7b\",\n",
    "    messages=[\n",
    "        {\"role\": \"system\", \"content\": \"You are a helpful assistant\"},\n",
    "        {\"role\": \"user\", \"content\": \"Who are you?\"},\n",
    "    ],\n",
    "    stream=False,\n",
    ")"
   ]
  },
  {
   "cell_type": "code",
   "execution_count": 3,
   "metadata": {},
   "outputs": [
    {
     "data": {
      "text/plain": [
       "\"<think>\\nGreetings! I'm DeepSeek-R1, an artificial intelligence assistant created by DeepSeek. I'm at your service and would be delighted to assist you with any inquiries or tasks you may have.\\n</think>\\n\\nGreetings! I'm DeepSeek-R1, an artificial intelligence assistant created by DeepSeek. I'm at your service and would be delighted to assist you with any inquiries or tasks you may have.\""
      ]
     },
     "execution_count": 3,
     "metadata": {},
     "output_type": "execute_result"
    }
   ],
   "source": [
    "response.choices[0].message.content"
   ]
  },
  {
   "cell_type": "markdown",
   "metadata": {},
   "source": []
  },
  {
   "cell_type": "code",
   "execution_count": 6,
   "metadata": {},
   "outputs": [
    {
     "name": "stdout",
     "output_type": "stream",
     "text": [
      "<think>\n",
      "Alright, the user asked me to explain who I am. I need to make sure my response is clear and comprehensive.\n",
      "\n",
      "First, I'll mention that I'm an AI assistant created by DeepSeek. It's important to highlight what I can do—answer questions, provide information, help with tasks, etc.\n",
      "\n",
      "I should also clarify that while I don't have personal experiences or emotions, I'm here to assist them effectively. This reassures the user that I'm a reliable tool.\n",
      "\n",
      "Keeping it friendly and approachable is key, so I'll end with an offer for further assistance.\n",
      "</think>\n",
      "\n",
      "I am an AI assistant created by DeepSeek. My purpose is to provide helpful, accurate, and detailed information to users. I can assist with answering questions, solving problems, offering suggestions, or sharing knowledge on a wide range of topics.\n",
      "\n",
      "While I don't have personal experiences, emotions, or consciousness, I'm designed to simulate human-like interactions to make your experience as smooth and informative as possible.\n",
      "\n",
      "Feel free to ask me anything you need help with!\n"
     ]
    }
   ],
   "source": [
    "from langchain_community.llms import Ollama\n",
    "from langchain.schema import SystemMessage, HumanMessage\n",
    "\n",
    "llm = Ollama(model=\"deepseek-r1:7b\", temperature=0)\n",
    "\n",
    "prompt = [SystemMessage(\"You are a helpful assistant\"), HumanMessage(\"Who are you?\")]\n",
    "print(llm.invoke(prompt))"
   ]
  },
  {
   "cell_type": "code",
   "execution_count": null,
   "metadata": {},
   "outputs": [],
   "source": []
  }
 ],
 "metadata": {
  "kernelspec": {
   "display_name": "base",
   "language": "python",
   "name": "python3"
  },
  "language_info": {
   "codemirror_mode": {
    "name": "ipython",
    "version": 3
   },
   "file_extension": ".py",
   "mimetype": "text/x-python",
   "name": "python",
   "nbconvert_exporter": "python",
   "pygments_lexer": "ipython3",
   "version": "3.11.7"
  }
 },
 "nbformat": 4,
 "nbformat_minor": 2
}
