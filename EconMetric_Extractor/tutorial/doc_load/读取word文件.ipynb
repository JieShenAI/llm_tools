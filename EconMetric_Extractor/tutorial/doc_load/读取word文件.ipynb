{
 "cells": [
  {
   "cell_type": "code",
   "execution_count": 2,
   "metadata": {},
   "outputs": [
    {
     "name": "stdout",
     "output_type": "stream",
     "text": [
      "Requirement already satisfied: python-docx in /home/jie/anaconda3/lib/python3.11/site-packages (1.1.2)\n",
      "Requirement already satisfied: lxml>=3.1.0 in /home/jie/anaconda3/lib/python3.11/site-packages (from python-docx) (4.9.3)\n",
      "Requirement already satisfied: typing-extensions>=4.9.0 in /home/jie/anaconda3/lib/python3.11/site-packages (from python-docx) (4.9.0)\n"
     ]
    }
   ],
   "source": [
    "!pip install python-docx"
   ]
  },
  {
   "cell_type": "code",
   "execution_count": 3,
   "metadata": {},
   "outputs": [],
   "source": [
    "from docx import Document"
   ]
  },
  {
   "cell_type": "code",
   "execution_count": 4,
   "metadata": {},
   "outputs": [],
   "source": [
    "file_path = \"data/小说.docx\""
   ]
  },
  {
   "cell_type": "code",
   "execution_count": 5,
   "metadata": {},
   "outputs": [],
   "source": [
    "doc = Document(file_path)"
   ]
  },
  {
   "cell_type": "code",
   "execution_count": 6,
   "metadata": {},
   "outputs": [
    {
     "data": {
      "text/plain": [
       "[<docx.text.paragraph.Paragraph at 0x7514dc36efd0>,\n",
       " <docx.text.paragraph.Paragraph at 0x7514dc36f010>,\n",
       " <docx.text.paragraph.Paragraph at 0x7514dc36f050>,\n",
       " <docx.text.paragraph.Paragraph at 0x7514dc36f090>,\n",
       " <docx.text.paragraph.Paragraph at 0x7514dc36f0d0>]"
      ]
     },
     "execution_count": 6,
     "metadata": {},
     "output_type": "execute_result"
    }
   ],
   "source": [
    "doc.paragraphs"
   ]
  },
  {
   "cell_type": "code",
   "execution_count": 7,
   "metadata": {},
   "outputs": [
    {
     "data": {
      "text/plain": [
       "('迷雾镇的秘密',\n",
       " '林然踏进迷雾镇时，天色已晚。镇上弥漫着淡淡的雾气，昏黄的路灯映照在湿润的石板路上，投下摇曳的影子。他来这里是为了调查一起离奇的失踪案——三天前，一位年轻女孩在镇上凭空消失，仿佛从未存在过。')"
      ]
     },
     "execution_count": 7,
     "metadata": {},
     "output_type": "execute_result"
    }
   ],
   "source": [
    "doc.paragraphs[0].text, doc.paragraphs[1].text"
   ]
  },
  {
   "cell_type": "code",
   "execution_count": 8,
   "metadata": {},
   "outputs": [],
   "source": [
    "def read_word_file(file_path):\n",
    "    # 打开 Word 文件\n",
    "    doc = Document(file_path)\n",
    "    \n",
    "    # 读取所有段落内容\n",
    "    text = \"\\n\".join([para.text for para in doc.paragraphs])\n",
    "    \n",
    "    return text"
   ]
  },
  {
   "cell_type": "code",
   "execution_count": 9,
   "metadata": {},
   "outputs": [
    {
     "name": "stdout",
     "output_type": "stream",
     "text": [
      "迷雾镇的秘密\n",
      "林然踏进迷雾镇时，天色已晚。镇上弥漫着淡淡的雾气，昏黄的路灯映照在湿润的石板路上，投下摇曳的影子。他来这里是为了调查一起离奇的失踪案——三天前，一位年轻女孩在镇上凭空消失，仿佛从未存在过。\n",
      "镇民们对外来者明显戒备，酒馆老板在他打探消息时只是摇头，低声说道：“这里的事，外人最好别管。”但林然并不打算退缩。他找到女孩失踪前最后出现的地方——镇中心的一口古井。井口刻着奇怪的符号，像是某种古老的语言。就在他伸手触碰的一瞬间，一阵阴冷的风从井底吹出，耳边仿佛响起低沉的耳语：“回去……”\n",
      "林然心头一震，正要后退，忽然感觉到身后有人。他猛地转身，一个身穿黑袍的老人站在不远处，眼神幽深。“你已经知道太多了。”老人的声音低哑，带着一丝危险的意味。\n",
      "夜色中，迷雾愈发浓重，仿佛要将整个镇子吞噬。林然意识到，这座小镇，藏着比他想象中更深的秘密……\n"
     ]
    }
   ],
   "source": [
    "# 读取 word 文件并打印内容\n",
    "content = read_word_file(file_path)\n",
    "print(content)"
   ]
  }
 ],
 "metadata": {
  "kernelspec": {
   "display_name": "base",
   "language": "python",
   "name": "python3"
  },
  "language_info": {
   "codemirror_mode": {
    "name": "ipython",
    "version": 3
   },
   "file_extension": ".py",
   "mimetype": "text/x-python",
   "name": "python",
   "nbconvert_exporter": "python",
   "pygments_lexer": "ipython3",
   "version": "3.11.7"
  }
 },
 "nbformat": 4,
 "nbformat_minor": 2
}
