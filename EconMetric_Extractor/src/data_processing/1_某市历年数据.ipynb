{
 "cells": [
  {
   "cell_type": "markdown",
   "metadata": {},
   "source": [
    "## 制作评估大模型抽取GDP的数据集"
   ]
  },
  {
   "cell_type": "markdown",
   "metadata": {},
   "source": [
    "简单制作一下，label 部分由人工标注"
   ]
  },
  {
   "cell_type": "code",
   "execution_count": 7,
   "metadata": {},
   "outputs": [],
   "source": [
    "import os\n",
    "import re"
   ]
  },
  {
   "cell_type": "code",
   "execution_count": 8,
   "metadata": {},
   "outputs": [],
   "source": [
    "fold = r\"E:\\github\\llm_tools\\EconMetric_Extractor\\data\\GovReportData\\city\""
   ]
  },
  {
   "cell_type": "code",
   "execution_count": null,
   "metadata": {},
   "outputs": [],
   "source": [
    "dataset_d = {}\n",
    "\n",
    "for file in os.listdir(fold):\n",
    "    if \"长沙\" not in file:\n",
    "        continue\n",
    "    file_name = os.path.join(fold, file)\n",
    "    with open(file_name, \"r\", encoding=\"utf-8\") as f:\n",
    "        lines = f.readlines()\n",
    "    year = re.search(\"(\\d+).txt\", file).group(1)\n",
    "    ans = []\n",
    "    for line in lines:\n",
    "        line = line.replace(r\"\\u3000\", \"\").strip()\n",
    "        if \"GDP\" in line or \"生产总值\" in line:\n",
    "            ans.append(line)\n",
    "\n",
    "    dataset_d[file] = {\"text\": ans, \"label\": \"\", \"year\": year, \"city\": \"长沙\", }"
   ]
  },
  {
   "cell_type": "code",
   "execution_count": 13,
   "metadata": {},
   "outputs": [],
   "source": [
    "import os\n",
    "import json\n",
    "\n",
    "def save_to_json(obj, file, encoding=\"utf-8\"):\n",
    "    parent_fold = os.path.dirname(file)\n",
    "    os.makedirs(parent_fold, exist_ok=True)\n",
    "    with open(file, \"w\", encoding=encoding) as f:\n",
    "        json.dump(obj, f, ensure_ascii=False, indent=2)"
   ]
  },
  {
   "cell_type": "code",
   "execution_count": 14,
   "metadata": {},
   "outputs": [],
   "source": [
    "save_to_json(dataset_d, \"../data/长沙_gdp.json\")"
   ]
  }
 ],
 "metadata": {
  "kernelspec": {
   "display_name": "base",
   "language": "python",
   "name": "python3"
  },
  "language_info": {
   "codemirror_mode": {
    "name": "ipython",
    "version": 3
   },
   "file_extension": ".py",
   "mimetype": "text/x-python",
   "name": "python",
   "nbconvert_exporter": "python",
   "pygments_lexer": "ipython3",
   "version": "3.11.7"
  }
 },
 "nbformat": 4,
 "nbformat_minor": 2
}
