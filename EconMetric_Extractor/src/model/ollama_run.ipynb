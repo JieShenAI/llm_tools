{
 "cells": [
  {
   "cell_type": "code",
   "execution_count": 1,
   "metadata": {},
   "outputs": [],
   "source": [
    "import os\n",
    "import re\n",
    "import json\n",
    "\n",
    "from tqdm import tqdm"
   ]
  },
  {
   "cell_type": "code",
   "execution_count": 2,
   "metadata": {},
   "outputs": [],
   "source": [
    "from langchain_community.llms import Ollama\n",
    "# llm =  Ollama(model=\"deepseek-r1:32b\", temperature=0)"
   ]
  },
  {
   "cell_type": "markdown",
   "metadata": {},
   "source": [
    "## 加载本地的GDP数据集"
   ]
  },
  {
   "cell_type": "code",
   "execution_count": 3,
   "metadata": {},
   "outputs": [],
   "source": [
    "def load_json(file, encoding=\"utf-8\"):\n",
    "    with open(file, \"r\", encoding=encoding) as f:\n",
    "        return json.load(f)\n",
    "\n",
    "def save_to_json(obj, file, encoding=\"utf-8\"):\n",
    "    parent_fold = os.path.dirname(file)\n",
    "    os.makedirs(parent_fold, exist_ok=True)\n",
    "    with open(file, \"w\", encoding=encoding) as f:\n",
    "        json.dump(obj, f, ensure_ascii=False, indent=2)"
   ]
  },
  {
   "cell_type": "code",
   "execution_count": 4,
   "metadata": {},
   "outputs": [],
   "source": [
    "dataset = load_json(\"../data/长沙_gdp.json\")"
   ]
  },
  {
   "cell_type": "code",
   "execution_count": 5,
   "metadata": {},
   "outputs": [
    {
     "data": {
      "text/plain": [
       "('长沙市2003.txt',\n",
       " {'text': [], 'label': '<not found>', 'year': '2003', 'city': '长沙'})"
      ]
     },
     "execution_count": 5,
     "metadata": {},
     "output_type": "execute_result"
    }
   ],
   "source": [
    "next(iter(dataset.items()))"
   ]
  },
  {
   "cell_type": "code",
   "execution_count": 6,
   "metadata": {},
   "outputs": [],
   "source": [
    "PROMPT_TEMPLATE = \"\"\"请你阅读长沙市的政府工作报告文本节选，抽取其中GDP具体的值。\n",
    "首先会在前面的文中提到全年（表述可能为：全年、今年、去年）的国民生产总值的具体数据，然后会在后面的文本展望未来预期的国民生产总值。\n",
    "如果文中出现了多个对GDP值的表述请你输出前面的。不要返回政府对未来预期的GDP的值。\n",
    "\n",
    "文本节选如下：\n",
    "{{text}}\n",
    "\n",
    "返回json格式:\n",
    "```json\n",
    "{\n",
    "    \"reason\":\"说明理由\",\n",
    "    \"GDP\": \"GDP值\"\n",
    "}\n",
    "```\n",
    "GDP值为数字，不需要单位，若文中未提到GDP值，请填写\"<not found>\"\n",
    "\"\"\""
   ]
  },
  {
   "cell_type": "code",
   "execution_count": 8,
   "metadata": {},
   "outputs": [],
   "source": [
    "# # Please install OpenAI SDK first: `pip3 install openai`\n",
    "\n",
    "# from openai import OpenAI\n",
    "\n",
    "# client = OpenAI(base_url=\"http://localhost:11434/v1\")\n",
    "\n",
    "# response = client.chat.completions.create(\n",
    "#     model=\"deepseek-r1:32b\",\n",
    "#     messages=[\n",
    "#         {\"role\": \"system\", \"content\": \"You are a helpful assistant\"},\n",
    "#         {\"role\": \"user\", \"content\": \"Who are you?\"},\n",
    "#     ],\n",
    "#     stream=False\n",
    "# )"
   ]
  },
  {
   "cell_type": "markdown",
   "metadata": {},
   "source": [
    "## 解析大模型抽取结果"
   ]
  },
  {
   "cell_type": "code",
   "execution_count": 6,
   "metadata": {},
   "outputs": [
    {
     "data": {
      "text/plain": [
       "{'text': ['全年完成国内生产总值９２８.２亿元（预计数，下同），增长１４％；全市财政总收入达１００.０２亿元，增长３２.５％，完成地方财政收入７５亿元，增长３６.４％；一、二、三产业分别增长４.８％、２０.３％和１０.５％，三次产业结构为８.９∶４２.５∶４８.６；工业完成增加值２６８.５亿元，规模工业实现利润３８亿元，均创历史新高；在稳定粮食生产的前提下，全市增加经济作物种植面积１７万亩，养殖业产值占农业总产值比重达４６.３％；乡镇企业完成产值８４０亿元，增长１５％；高新技术产业实现产值３９１亿元，增长２５％；社会消费品零售总额４５２亿元，增长１２.６％。２００３年我市经济发展呈现的良好态势，标志着全市经济运行进入了新一轮发展增长期！',\n",
       "  '今年政府工作的总体要求是：深入贯彻落实党的十六大和十六届三中全会精神，紧紧围绕全面建设小康社会的总体目标，坚持以人为本，树立全面、协调、可持续的发展观，深化改革，扩大开放，统筹发展，维护稳定，进一步完善社会主义市场经济体制，加快推进工业化、城市化、农业产业化进程，努力提高人民生活水平，实现国民经济持续快速协调健康发展和社会全面进步。今年全市经济和社会发展的主要预期目标是：国内生产总值增长１２％以上；全社会固定资产投资总额增长１８％以上；社会消费品零售总额增长１３％以上；地方财政收入增长１５％以上；城市居民和农村居民人均可支配收入分别增长９％和７％；城镇登记失业率控制在４％以内；人口自然增长率控制在５‰以内。'],\n",
       " 'label': '928.2',\n",
       " 'year': '2004',\n",
       " 'city': '长沙'}"
      ]
     },
     "execution_count": 6,
     "metadata": {},
     "output_type": "execute_result"
    }
   ],
   "source": [
    "dataset['长沙市2004.txt']"
   ]
  },
  {
   "cell_type": "code",
   "execution_count": 9,
   "metadata": {},
   "outputs": [
    {
     "name": "stdout",
     "output_type": "stream",
     "text": [
      "全年完成国内生产总值９２８.２亿元（预计数，下同），增长１４％；全市财政总收入达１００.０２亿元，增长３２.５％，完成地方财政收入７５亿元，增长３６.４％；一、二、三产业分别增长４.８％、２０.３％和１０.５％，三次产业结构为８.９∶４２.５∶４８.６；工业完成增加值２６８.５亿元，规模工业实现利润３８亿元，均创历史新高；在稳定粮食生产的前提下，全市增加经济作物种植面积１７万亩，养殖业产值占农业总产值比重达４６.３％；乡镇企业完成产值８４０亿元，增长１５％；高新技术产业实现产值３９１亿元，增长２５％；社会消费品零售总额４５２亿元，增长１２.６％。２００３年我市经济发展呈现的良好态势，标志着全市经济运行进入了新一轮发展增长期！\n",
      "今年政府工作的总体要求是：深入贯彻落实党的十六大和十六届三中全会精神，紧紧围绕全面建设小康社会的总体目标，坚持以人为本，树立全面、协调、可持续的发展观，深化改革，扩大开放，统筹发展，维护稳定，进一步完善社会主义市场经济体制，加快推进工业化、城市化、农业产业化进程，努力提高人民生活水平，实现国民经济持续快速协调健康发展和社会全面进步。今年全市经济和社会发展的主要预期目标是：国内生产总值增长１２％以上；全社会固定资产投资总额增长１８％以上；社会消费品零售总额增长１３％以上；地方财政收入增长１５％以上；城市居民和农村居民人均可支配收入分别增长９％和７％；城镇登记失业率控制在４％以内；人口自然增长率控制在５‰以内。\n"
     ]
    }
   ],
   "source": [
    "print(\"\\n\".join( dataset[\"长沙市2004.txt\"][\"text\"]))"
   ]
  },
  {
   "cell_type": "code",
   "execution_count": 11,
   "metadata": {},
   "outputs": [
    {
     "name": "stdout",
     "output_type": "stream",
     "text": [
      "请你阅读长沙市的政府工作报告文本节选，抽取其中GDP具体的值。\n",
      "首先会在前面的文中提到全年（表述可能为：全年、今年、去年）的国民生产总值的具体数据，然后会在后面的文本展望未来预期的国民生产总值。\n",
      "如果文中出现了多个对GDP值的表述请你输出前面的。不要返回政府对未来预期的GDP的值。\n",
      "\n",
      "文本节选如下：\n",
      "全年完成国内生产总值９２８.２亿元（预计数，下同），增长１４％；全市财政总收入达１００.０２亿元，增长３２.５％，完成地方财政收入７５亿元，增长３６.４％；一、二、三产业分别增长４.８％、２０.３％和１０.５％，三次产业结构为８.９∶４２.５∶４８.６；工业完成增加值２６８.５亿元，规模工业实现利润３８亿元，均创历史新高；在稳定粮食生产的前提下，全市增加经济作物种植面积１７万亩，养殖业产值占农业总产值比重达４６.３％；乡镇企业完成产值８４０亿元，增长１５％；高新技术产业实现产值３９１亿元，增长２５％；社会消费品零售总额４５２亿元，增长１２.６％。２００３年我市经济发展呈现的良好态势，标志着全市经济运行进入了新一轮发展增长期！\n",
      "今年政府工作的总体要求是：深入贯彻落实党的十六大和十六届三中全会精神，紧紧围绕全面建设小康社会的总体目标，坚持以人为本，树立全面、协调、可持续的发展观，深化改革，扩大开放，统筹发展，维护稳定，进一步完善社会主义市场经济体制，加快推进工业化、城市化、农业产业化进程，努力提高人民生活水平，实现国民经济持续快速协调健康发展和社会全面进步。今年全市经济和社会发展的主要预期目标是：国内生产总值增长１２％以上；全社会固定资产投资总额增长１８％以上；社会消费品零售总额增长１３％以上；地方财政收入增长１５％以上；城市居民和农村居民人均可支配收入分别增长９％和７％；城镇登记失业率控制在４％以内；人口自然增长率控制在５‰以内。\n",
      "\n",
      "返回json格式:\n",
      "```json\n",
      "{\n",
      "    \"reason\":\"说明理由\",\n",
      "    \"GDP\": \"GDP值\"\n",
      "}\n",
      "```\n",
      "GDP值为数字，不需要单位，若文中未提到GDP值，请填写\"<not found>\"\n",
      "\n"
     ]
    }
   ],
   "source": [
    "print(PROMPT_TEMPLATE.replace(\"{{text}}\", \"\\n\".join( dataset[\"长沙市2004.txt\"][\"text\"])))"
   ]
  },
  {
   "cell_type": "code",
   "execution_count": null,
   "metadata": {},
   "outputs": [],
   "source": [
    "def llm_pred(llm, dataset, output_file):\n",
    "    pred_dataset = []\n",
    "    for item in tqdm(dataset.values()):\n",
    "        if item[\"text\"] == []:\n",
    "            continue\n",
    "        text = \"\\n\".join(item[\"text\"])\n",
    "        prompt = PROMPT_TEMPLATE.replace(\"{{text}}\", text)\n",
    "        item[\"prompt\"] = prompt\n",
    "        llm_answer = llm.invoke(prompt)\n",
    "        item[\"llm_answer\"] = llm_answer\n",
    "        llm_response_text = re.search(\n",
    "            r\"```json\\n(.*)\\n```\", llm_answer, re.DOTALL\n",
    "        ).group(1)\n",
    "        reponse_d = json.loads(llm_response_text)\n",
    "        pred_label = reponse_d.get(\"GDP\", \"error\")\n",
    "        item[\"pred_label\"] = pred_label\n",
    "        pred_dataset.append(item)\n",
    "        \n",
    "    save_to_json(pred_dataset, output_file)"
   ]
  },
  {
   "cell_type": "code",
   "execution_count": null,
   "metadata": {},
   "outputs": [
    {
     "name": "stderr",
     "output_type": "stream",
     "text": [
      "100%|██████████| 21/21 [00:59<00:00,  2.81s/it]\n"
     ]
    }
   ],
   "source": [
    "qwen_7b =  Ollama(model=\"qwen2.5:7b\", temperature=0)\n",
    "llm_pred(qwen_7b, dataset, \"output/长沙_gdp_qwen_7b.json\")"
   ]
  },
  {
   "cell_type": "code",
   "execution_count": 17,
   "metadata": {},
   "outputs": [
    {
     "name": "stderr",
     "output_type": "stream",
     "text": [
      "100%|██████████| 21/21 [04:45<00:00, 13.59s/it]\n"
     ]
    }
   ],
   "source": [
    "deepseek_r1_32b =  Ollama(model=\"deepseek-r1:32b\", temperature=0)\n",
    "llm_pred(deepseek_r1_32b, dataset, \"output/长沙_gdp_deepseek_r1_32b.json\")"
   ]
  },
  {
   "cell_type": "code",
   "execution_count": 15,
   "metadata": {},
   "outputs": [
    {
     "name": "stderr",
     "output_type": "stream",
     "text": [
      "100%|██████████| 21/21 [01:43<00:00,  4.92s/it]\n"
     ]
    }
   ],
   "source": [
    "deepseek_r1_7b = Ollama(model=\"deepseek-r1:7b\", temperature=0)\n",
    "llm_pred(deepseek_r1_7b, dataset, \"output/长沙_gdp_deepseek_r1_7b.json\")"
   ]
  },
  {
   "cell_type": "code",
   "execution_count": 9,
   "metadata": {},
   "outputs": [
    {
     "name": "stderr",
     "output_type": "stream",
     "text": [
      "100%|██████████| 21/21 [08:34<00:00, 24.50s/it]\n"
     ]
    }
   ],
   "source": [
    "qwq_32b = Ollama(model=\"qwq:32b\", temperature=0)\n",
    "llm_pred(qwq_32b, dataset, \"output/长沙_gdp_qwq_32b.json\")"
   ]
  }
 ],
 "metadata": {
  "kernelspec": {
   "display_name": "base",
   "language": "python",
   "name": "python3"
  },
  "language_info": {
   "codemirror_mode": {
    "name": "ipython",
    "version": 3
   },
   "file_extension": ".py",
   "mimetype": "text/x-python",
   "name": "python",
   "nbconvert_exporter": "python",
   "pygments_lexer": "ipython3",
   "version": "3.11.7"
  }
 },
 "nbformat": 4,
 "nbformat_minor": 2
}
