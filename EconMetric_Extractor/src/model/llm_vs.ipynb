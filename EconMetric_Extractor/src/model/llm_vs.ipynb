{
 "cells": [
  {
   "cell_type": "code",
   "execution_count": 2,
   "metadata": {},
   "outputs": [],
   "source": [
    "import os\n",
    "import pandas as pd"
   ]
  },
  {
   "cell_type": "code",
   "execution_count": 3,
   "metadata": {},
   "outputs": [],
   "source": [
    "llm_output_fold = \"output\""
   ]
  },
  {
   "cell_type": "code",
   "execution_count": 6,
   "metadata": {},
   "outputs": [],
   "source": [
    "import json\n",
    "\n",
    "\n",
    "def load_json(file, encoding=\"utf-8\"):\n",
    "    with open(file, \"r\", encoding=encoding) as f:\n",
    "        return json.load(f)\n",
    "\n",
    "\n",
    "def save_to_json(obj, file, encoding=\"utf-8\"):\n",
    "    parent_fold = os.path.dirname(file)\n",
    "    os.makedirs(parent_fold, exist_ok=True)\n",
    "    with open(file, \"w\", encoding=encoding) as f:\n",
    "        json.dump(obj, f, ensure_ascii=False, indent=2)"
   ]
  },
  {
   "cell_type": "code",
   "execution_count": 37,
   "metadata": {},
   "outputs": [],
   "source": [
    "data = []\n",
    "label_d = load_json(\"output/长沙_gdp_qwen_7b.json\")\n",
    "row_d = {}\n",
    "\n",
    "for item in label_d:\n",
    "    row_d[\"model\"] = \"label\"\n",
    "    col_name = item[\"city\"] + \"_\" + item[\"year\"]\n",
    "    row_d[col_name] = item[\"label\"]\n",
    "row_d[\"acc\"] = \"100\"\n",
    "data.append(row_d)"
   ]
  },
  {
   "cell_type": "code",
   "execution_count": 38,
   "metadata": {},
   "outputs": [
    {
     "data": {
      "text/plain": [
       "{'model': 'label',\n",
       " '长沙_2004': '928.2',\n",
       " '长沙_2005': '1108.07',\n",
       " '长沙_2006': '1517',\n",
       " '长沙_2007': '1780',\n",
       " '长沙_2008': '2179',\n",
       " '长沙_2009': '<not found>',\n",
       " '长沙_2010': '3300',\n",
       " '长沙_2011': '4500',\n",
       " '长沙_2012': '5600',\n",
       " '长沙_2013': '6510',\n",
       " '长沙_2014': '7200',\n",
       " '长沙_2016': '8510.13',\n",
       " '长沙_2017': '9250',\n",
       " '长沙_2018': '10200',\n",
       " '长沙_2019': '<not found>',\n",
       " '长沙_2020': '<not found>',\n",
       " '长沙_2021': '<not found>',\n",
       " '长沙_2022': '<not found>',\n",
       " '长沙_2023': '<not found>',\n",
       " '长沙_2024': '<not found>',\n",
       " 'acc': '100'}"
      ]
     },
     "execution_count": 38,
     "metadata": {},
     "output_type": "execute_result"
    }
   ],
   "source": [
    "row_d"
   ]
  },
  {
   "cell_type": "code",
   "execution_count": 39,
   "metadata": {},
   "outputs": [],
   "source": [
    "for file in os.listdir(llm_output_fold):\n",
    "    model_name = file.replace(\"长沙_gdp_\", \"\").split(\".\")[0]\n",
    "    row_d = {}\n",
    "    row_d[\"model\"] = model_name\n",
    "    file_name = os.path.join(llm_output_fold, file)\n",
    "    tmp_d = load_json(file_name)\n",
    "    right = 0\n",
    "    n = 0\n",
    "    for item in tmp_d:\n",
    "        n += 1\n",
    "        # data.append(item)\n",
    "        col_name = item[\"city\"] + \"_\" + item[\"year\"]\n",
    "        label = str(item[\"label\"])\n",
    "        pred = str(item[\"pred_label\"])\n",
    "        row_d[col_name] = str(pred)\n",
    "        if label == pred:\n",
    "            right += 1\n",
    "            \n",
    "    row_d[\"acc\"] = format(right / n, \".2f\")\n",
    "    data.append(row_d)\n",
    "    "
   ]
  },
  {
   "cell_type": "code",
   "execution_count": 41,
   "metadata": {},
   "outputs": [],
   "source": [
    "pd.DataFrame(data).to_csv(\"output/llm_vs.csv\", index=False)"
   ]
  },
  {
   "cell_type": "code",
   "execution_count": null,
   "metadata": {},
   "outputs": [],
   "source": []
  }
 ],
 "metadata": {
  "kernelspec": {
   "display_name": "base",
   "language": "python",
   "name": "python3"
  },
  "language_info": {
   "codemirror_mode": {
    "name": "ipython",
    "version": 3
   },
   "file_extension": ".py",
   "mimetype": "text/x-python",
   "name": "python",
   "nbconvert_exporter": "python",
   "pygments_lexer": "ipython3",
   "version": "3.11.7"
  }
 },
 "nbformat": 4,
 "nbformat_minor": 2
}
