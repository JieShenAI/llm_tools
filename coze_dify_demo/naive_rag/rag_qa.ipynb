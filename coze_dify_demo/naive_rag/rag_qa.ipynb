{
 "cells": [
  {
   "cell_type": "code",
   "execution_count": null,
   "metadata": {},
   "outputs": [],
   "source": [
    "!pip install transformers modelscope langchain sentence_transformers langchain-huggingface onnxruntime\n",
    "\n",
    "## 根据langchain的文档，安装chroma\n",
    "## https://python.langchain.com/docs/integrations/vectorstores/chroma/\n",
    "!pip install -qU \"langchain-chroma>=0.1.2\""
   ]
  },
  {
   "cell_type": "code",
   "execution_count": 1,
   "metadata": {},
   "outputs": [
    {
     "name": "stderr",
     "output_type": "stream",
     "text": [
      "/home/jie/anaconda3/envs/agent/lib/python3.11/site-packages/tqdm/auto.py:21: TqdmWarning: IProgress not found. Please update jupyter and ipywidgets. See https://ipywidgets.readthedocs.io/en/stable/user_install.html\n",
      "  from .autonotebook import tqdm as notebook_tqdm\n"
     ]
    },
    {
     "name": "stdout",
     "output_type": "stream",
     "text": [
      "Downloading Model from https://www.modelscope.cn to directory: /home/jie/.cache/modelscope/hub/models/BAAI/bge-m3\n"
     ]
    }
   ],
   "source": [
    "import os\n",
    "from langchain_huggingface import HuggingFaceEmbeddings\n",
    "from langchain_community.document_loaders.text import TextLoader\n",
    "from langchain_text_splitters import CharacterTextSplitter\n",
    "from langchain_chroma import Chroma\n",
    "\n",
    "# embedding 模型下载\n",
    "from modelscope import snapshot_download\n",
    "model_dir = snapshot_download('BAAI/bge-m3')"
   ]
  },
  {
   "cell_type": "code",
   "execution_count": 5,
   "metadata": {},
   "outputs": [
    {
     "name": "stderr",
     "output_type": "stream",
     "text": [
      "Created a chunk of size 593, which is longer than the specified 200\n",
      "Created a chunk of size 903, which is longer than the specified 200\n",
      "Created a chunk of size 396, which is longer than the specified 200\n",
      "Created a chunk of size 584, which is longer than the specified 200\n",
      "Created a chunk of size 398, which is longer than the specified 200\n",
      "Created a chunk of size 763, which is longer than the specified 200\n",
      "Created a chunk of size 791, which is longer than the specified 200\n",
      "Created a chunk of size 857, which is longer than the specified 200\n",
      "Created a chunk of size 1169, which is longer than the specified 200\n",
      "Created a chunk of size 380, which is longer than the specified 200\n",
      "Created a chunk of size 290, which is longer than the specified 200\n",
      "Created a chunk of size 470, which is longer than the specified 200\n",
      "Created a chunk of size 1892, which is longer than the specified 200\n",
      "Created a chunk of size 662, which is longer than the specified 200\n",
      "Created a chunk of size 1295, which is longer than the specified 200\n",
      "Created a chunk of size 832, which is longer than the specified 200\n",
      "Created a chunk of size 970, which is longer than the specified 200\n",
      "Created a chunk of size 572, which is longer than the specified 200\n",
      "Created a chunk of size 1311, which is longer than the specified 200\n",
      "Created a chunk of size 815, which is longer than the specified 200\n",
      "Created a chunk of size 1086, which is longer than the specified 200\n",
      "Created a chunk of size 881, which is longer than the specified 200\n",
      "Created a chunk of size 266, which is longer than the specified 200\n",
      "Created a chunk of size 245, which is longer than the specified 200\n",
      "Created a chunk of size 249, which is longer than the specified 200\n",
      "Created a chunk of size 257, which is longer than the specified 200\n",
      "Created a chunk of size 280, which is longer than the specified 200\n",
      "Created a chunk of size 315, which is longer than the specified 200\n",
      "Created a chunk of size 660, which is longer than the specified 200\n",
      "Created a chunk of size 977, which is longer than the specified 200\n",
      "Created a chunk of size 986, which is longer than the specified 200\n",
      "Created a chunk of size 502, which is longer than the specified 200\n",
      "Created a chunk of size 385, which is longer than the specified 200\n",
      "Created a chunk of size 833, which is longer than the specified 200\n",
      "Created a chunk of size 674, which is longer than the specified 200\n",
      "Created a chunk of size 394, which is longer than the specified 200\n",
      "Created a chunk of size 346, which is longer than the specified 200\n",
      "Created a chunk of size 401, which is longer than the specified 200\n",
      "Created a chunk of size 242, which is longer than the specified 200\n",
      "Created a chunk of size 347, which is longer than the specified 200\n",
      "Created a chunk of size 210, which is longer than the specified 200\n",
      "Created a chunk of size 227, which is longer than the specified 200\n",
      "Created a chunk of size 279, which is longer than the specified 200\n",
      "Created a chunk of size 333, which is longer than the specified 200\n",
      "Created a chunk of size 342, which is longer than the specified 200\n",
      "Created a chunk of size 341, which is longer than the specified 200\n",
      "Created a chunk of size 392, which is longer than the specified 200\n",
      "Created a chunk of size 327, which is longer than the specified 200\n",
      "Created a chunk of size 240, which is longer than the specified 200\n",
      "Created a chunk of size 238, which is longer than the specified 200\n",
      "Created a chunk of size 218, which is longer than the specified 200\n",
      "Created a chunk of size 320, which is longer than the specified 200\n",
      "Created a chunk of size 229, which is longer than the specified 200\n",
      "Created a chunk of size 254, which is longer than the specified 200\n",
      "Created a chunk of size 208, which is longer than the specified 200\n",
      "Created a chunk of size 211, which is longer than the specified 200\n",
      "Created a chunk of size 229, which is longer than the specified 200\n",
      "Created a chunk of size 294, which is longer than the specified 200\n",
      "Created a chunk of size 253, which is longer than the specified 200\n",
      "Created a chunk of size 333, which is longer than the specified 200\n",
      "Created a chunk of size 247, which is longer than the specified 200\n",
      "Created a chunk of size 642, which is longer than the specified 200\n",
      "Created a chunk of size 906, which is longer than the specified 200\n",
      "Created a chunk of size 955, which is longer than the specified 200\n",
      "Created a chunk of size 829, which is longer than the specified 200\n",
      "Created a chunk of size 676, which is longer than the specified 200\n",
      "Created a chunk of size 520, which is longer than the specified 200\n",
      "Created a chunk of size 676, which is longer than the specified 200\n",
      "Created a chunk of size 306, which is longer than the specified 200\n",
      "Created a chunk of size 425, which is longer than the specified 200\n",
      "Created a chunk of size 377, which is longer than the specified 200\n",
      "Created a chunk of size 371, which is longer than the specified 200\n",
      "Created a chunk of size 344, which is longer than the specified 200\n",
      "Created a chunk of size 549, which is longer than the specified 200\n",
      "Created a chunk of size 442, which is longer than the specified 200\n",
      "Created a chunk of size 352, which is longer than the specified 200\n",
      "Created a chunk of size 289, which is longer than the specified 200\n",
      "Created a chunk of size 239, which is longer than the specified 200\n",
      "Created a chunk of size 212, which is longer than the specified 200\n",
      "Created a chunk of size 267, which is longer than the specified 200\n",
      "Created a chunk of size 288, which is longer than the specified 200\n",
      "Created a chunk of size 673, which is longer than the specified 200\n",
      "Created a chunk of size 343, which is longer than the specified 200\n",
      "Created a chunk of size 251, which is longer than the specified 200\n",
      "Created a chunk of size 257, which is longer than the specified 200\n",
      "Created a chunk of size 249, which is longer than the specified 200\n",
      "Created a chunk of size 229, which is longer than the specified 200\n",
      "Created a chunk of size 205, which is longer than the specified 200\n",
      "Created a chunk of size 298, which is longer than the specified 200\n",
      "Created a chunk of size 210, which is longer than the specified 200\n",
      "Created a chunk of size 223, which is longer than the specified 200\n",
      "Created a chunk of size 222, which is longer than the specified 200\n",
      "Created a chunk of size 205, which is longer than the specified 200\n",
      "Created a chunk of size 201, which is longer than the specified 200\n",
      "Created a chunk of size 260, which is longer than the specified 200\n",
      "Created a chunk of size 231, which is longer than the specified 200\n",
      "Created a chunk of size 322, which is longer than the specified 200\n",
      "Created a chunk of size 243, which is longer than the specified 200\n",
      "Created a chunk of size 211, which is longer than the specified 200\n",
      "Created a chunk of size 457, which is longer than the specified 200\n",
      "Created a chunk of size 832, which is longer than the specified 200\n",
      "Created a chunk of size 264, which is longer than the specified 200\n",
      "Created a chunk of size 260, which is longer than the specified 200\n",
      "Created a chunk of size 319, which is longer than the specified 200\n",
      "Created a chunk of size 268, which is longer than the specified 200\n",
      "Created a chunk of size 449, which is longer than the specified 200\n",
      "Created a chunk of size 293, which is longer than the specified 200\n",
      "Created a chunk of size 228, which is longer than the specified 200\n",
      "Created a chunk of size 233, which is longer than the specified 200\n",
      "Created a chunk of size 206, which is longer than the specified 200\n",
      "Created a chunk of size 287, which is longer than the specified 200\n",
      "Created a chunk of size 347, which is longer than the specified 200\n",
      "Created a chunk of size 404, which is longer than the specified 200\n",
      "Created a chunk of size 378, which is longer than the specified 200\n",
      "Created a chunk of size 407, which is longer than the specified 200\n",
      "Created a chunk of size 356, which is longer than the specified 200\n",
      "Created a chunk of size 333, which is longer than the specified 200\n",
      "Created a chunk of size 332, which is longer than the specified 200\n",
      "Created a chunk of size 503, which is longer than the specified 200\n",
      "Created a chunk of size 440, which is longer than the specified 200\n",
      "Created a chunk of size 229, which is longer than the specified 200\n",
      "Created a chunk of size 235, which is longer than the specified 200\n",
      "Created a chunk of size 339, which is longer than the specified 200\n",
      "Created a chunk of size 412, which is longer than the specified 200\n",
      "Created a chunk of size 274, which is longer than the specified 200\n",
      "Created a chunk of size 291, which is longer than the specified 200\n",
      "Created a chunk of size 272, which is longer than the specified 200\n",
      "Created a chunk of size 232, which is longer than the specified 200\n",
      "Created a chunk of size 214, which is longer than the specified 200\n",
      "Created a chunk of size 202, which is longer than the specified 200\n",
      "Created a chunk of size 216, which is longer than the specified 200\n",
      "Created a chunk of size 247, which is longer than the specified 200\n",
      "Created a chunk of size 317, which is longer than the specified 200\n",
      "Created a chunk of size 600, which is longer than the specified 200\n",
      "Created a chunk of size 467, which is longer than the specified 200\n",
      "Created a chunk of size 277, which is longer than the specified 200\n",
      "Created a chunk of size 357, which is longer than the specified 200\n",
      "Created a chunk of size 322, which is longer than the specified 200\n",
      "Created a chunk of size 305, which is longer than the specified 200\n",
      "Created a chunk of size 345, which is longer than the specified 200\n",
      "Created a chunk of size 477, which is longer than the specified 200\n",
      "Created a chunk of size 448, which is longer than the specified 200\n",
      "Created a chunk of size 224, which is longer than the specified 200\n",
      "Created a chunk of size 567, which is longer than the specified 200\n",
      "Created a chunk of size 226, which is longer than the specified 200\n",
      "Created a chunk of size 317, which is longer than the specified 200\n",
      "Created a chunk of size 382, which is longer than the specified 200\n",
      "Created a chunk of size 209, which is longer than the specified 200\n",
      "Created a chunk of size 354, which is longer than the specified 200\n",
      "Created a chunk of size 222, which is longer than the specified 200\n",
      "Created a chunk of size 239, which is longer than the specified 200\n",
      "Created a chunk of size 210, which is longer than the specified 200\n",
      "Created a chunk of size 261, which is longer than the specified 200\n",
      "Created a chunk of size 235, which is longer than the specified 200\n",
      "Created a chunk of size 216, which is longer than the specified 200\n",
      "Created a chunk of size 607, which is longer than the specified 200\n",
      "Created a chunk of size 261, which is longer than the specified 200\n",
      "Created a chunk of size 232, which is longer than the specified 200\n",
      "Created a chunk of size 211, which is longer than the specified 200\n",
      "Created a chunk of size 512, which is longer than the specified 200\n",
      "Created a chunk of size 413, which is longer than the specified 200\n",
      "Created a chunk of size 332, which is longer than the specified 200\n",
      "Created a chunk of size 658, which is longer than the specified 200\n",
      "Created a chunk of size 415, which is longer than the specified 200\n",
      "Created a chunk of size 382, which is longer than the specified 200\n",
      "Created a chunk of size 596, which is longer than the specified 200\n",
      "Created a chunk of size 255, which is longer than the specified 200\n",
      "Created a chunk of size 237, which is longer than the specified 200\n",
      "Created a chunk of size 280, which is longer than the specified 200\n",
      "Created a chunk of size 278, which is longer than the specified 200\n",
      "Created a chunk of size 309, which is longer than the specified 200\n",
      "Created a chunk of size 468, which is longer than the specified 200\n",
      "Created a chunk of size 221, which is longer than the specified 200\n",
      "Created a chunk of size 909, which is longer than the specified 200\n",
      "Created a chunk of size 347, which is longer than the specified 200\n",
      "Created a chunk of size 235, which is longer than the specified 200\n",
      "Created a chunk of size 674, which is longer than the specified 200\n",
      "Created a chunk of size 1322, which is longer than the specified 200\n",
      "Created a chunk of size 560, which is longer than the specified 200\n",
      "Created a chunk of size 374, which is longer than the specified 200\n",
      "Created a chunk of size 347, which is longer than the specified 200\n",
      "Created a chunk of size 489, which is longer than the specified 200\n",
      "Created a chunk of size 210, which is longer than the specified 200\n",
      "Created a chunk of size 450, which is longer than the specified 200\n",
      "Created a chunk of size 406, which is longer than the specified 200\n",
      "Created a chunk of size 457, which is longer than the specified 200\n",
      "Created a chunk of size 224, which is longer than the specified 200\n",
      "Created a chunk of size 357, which is longer than the specified 200\n",
      "Created a chunk of size 520, which is longer than the specified 200\n"
     ]
    }
   ],
   "source": [
    "# load the document and split it into chunks\n",
    "chunks = []\n",
    "PREFIX = \"以下是{file_name}年政府工作报告的节选部分:\"\n",
    "fold = \"data\"\n",
    "for file in os.listdir(fold):\n",
    "    file_name = os.path.join(fold, file)\n",
    "    if file.endswith(\".txt\"):\n",
    "        prefix = PREFIX.format(file_name=file.split(\".\")[0])\n",
    "    else:\n",
    "        continue\n",
    "    loader = TextLoader(file_name)\n",
    "    documents = loader.load()\n",
    "    \n",
    "    # split it into chunks\n",
    "    text_splitter = CharacterTextSplitter(chunk_size=200, chunk_overlap=20)\n",
    "    tmp_chunks = (text_splitter.split_documents(documents))\n",
    "    for chunk in tmp_chunks:\n",
    "        chunk.page_content = prefix + chunk.page_content\n",
    "    \n",
    "    chunks.extend(tmp_chunks)"
   ]
  },
  {
   "cell_type": "code",
   "execution_count": null,
   "metadata": {},
   "outputs": [],
   "source": [
    "len(chunks)"
   ]
  },
  {
   "cell_type": "code",
   "execution_count": 3,
   "metadata": {},
   "outputs": [
    {
     "data": {
      "text/plain": [
       "(Document(metadata={'source': 'data/七台河市2024.txt'}, page_content='以下是七台河市2024年政府工作报告的节选部分:七台河市政府工作报告（2024年1月12日 李兵）\\n2024年04月01日 17:21   来源：七台河市政府网   \\n[手机看新闻][字号 大 中 小][打印本稿]\\n\\u3000\\u3000——2024年1月12日在七台河市第十二届人民代表大会第三次会议上\\n\\n\\u3000\\u3000李兵\\n\\n\\u3000\\u3000各位代表:\\n\\n\\u3000\\u3000现在,我代表市政府向大会报告工作,请予审议,并请政协委员提出意见。\\n\\n\\u3000\\u3000一、2023年工作回顾'),\n",
       " Document(metadata={'source': 'data/内蒙古自治区2024.txt'}, page_content='以下是内蒙古自治区2024年政府工作报告的节选部分:“七个作模范”：在感党恩听党话、紧跟习近平总书记奋进新征程上作模范，在铸牢中华民族共同体意识上作模范，在民族地区推进中国式现代化建设中作模范，在边疆民族地区走向共同富裕的道路上作模范，在兴边稳边固边上作模范，在边疆地区联通国内国际双循环上作模范，在弘扬新风正气上作模范。'))"
      ]
     },
     "execution_count": 3,
     "metadata": {},
     "output_type": "execute_result"
    }
   ],
   "source": [
    "chunks[0], chunks[-1]"
   ]
  },
  {
   "cell_type": "code",
   "execution_count": null,
   "metadata": {},
   "outputs": [],
   "source": [
    "print(chunks[0].page_content)"
   ]
  },
  {
   "cell_type": "code",
   "execution_count": null,
   "metadata": {},
   "outputs": [],
   "source": [
    "print(chunks[-1].page_content)"
   ]
  },
  {
   "cell_type": "code",
   "execution_count": null,
   "metadata": {},
   "outputs": [],
   "source": [
    "!pip install torch torchvision torchaudio --index-url https://download.pytorch.org/whl/cu126"
   ]
  },
  {
   "cell_type": "code",
   "execution_count": null,
   "metadata": {},
   "outputs": [],
   "source": [
    "!pip install sentence-transformers"
   ]
  },
  {
   "cell_type": "code",
   "execution_count": 7,
   "metadata": {},
   "outputs": [
    {
     "data": {
      "text/plain": [
       "'/home/jie/.cache/modelscope/hub/models/BAAI/bge-m3'"
      ]
     },
     "execution_count": 7,
     "metadata": {},
     "output_type": "execute_result"
    }
   ],
   "source": [
    "model_dir"
   ]
  },
  {
   "cell_type": "code",
   "execution_count": 2,
   "metadata": {},
   "outputs": [],
   "source": [
    "# create the open-source embedding function\n",
    "bge_m3_embedding = HuggingFaceEmbeddings(\n",
    "    model_name=model_dir, model_kwargs={\n",
    "        \"trust_remote_code\": True, \n",
    "        }\n",
    ")"
   ]
  },
  {
   "cell_type": "code",
   "execution_count": 3,
   "metadata": {},
   "outputs": [
    {
     "data": {
      "text/plain": [
       "True"
      ]
     },
     "execution_count": 3,
     "metadata": {},
     "output_type": "execute_result"
    }
   ],
   "source": [
    "import torch\n",
    "\n",
    "torch.cuda.is_available()"
   ]
  },
  {
   "cell_type": "code",
   "execution_count": null,
   "metadata": {},
   "outputs": [],
   "source": [
    "!pip install --upgrade transformers"
   ]
  },
  {
   "cell_type": "code",
   "execution_count": null,
   "metadata": {},
   "outputs": [],
   "source": [
    "# https://python.langchain.com/docs/how_to/vectorstores/\n",
    "vector_store = Chroma(\n",
    "    collection_name=\"demo_db\",\n",
    "    embedding_function=bge_m3_embedding,\n",
    "    # Where to save data locally, remove if not necessary\n",
    "    persist_directory=\"./chroma_langchain_db\",  \n",
    ")\n",
    "\n",
    "# 默认使用GPU计算，除非torch不能使用cuda\n",
    "vector_store.add_documents(chunks)"
   ]
  },
  {
   "cell_type": "code",
   "execution_count": null,
   "metadata": {},
   "outputs": [],
   "source": [
    "# 从本地加载\n"
   ]
  },
  {
   "cell_type": "code",
   "execution_count": null,
   "metadata": {},
   "outputs": [],
   "source": [
    "!pip install torch torchvision torchaudio --index-url https://download.pytorch.org/whl/cu126"
   ]
  },
  {
   "cell_type": "code",
   "execution_count": null,
   "metadata": {},
   "outputs": [],
   "source": [
    "vector_store.similarity_search(\"生产总值\")"
   ]
  },
  {
   "cell_type": "code",
   "execution_count": null,
   "metadata": {},
   "outputs": [],
   "source": [
    "query = \"上海市2024年工作报告中提到的国民生成总值是多少？\"# 新增就业岗位60.6万个\n",
    "relevant_docs = vector_store.similarity_search(query)\n",
    "relevant_docs"
   ]
  },
  {
   "cell_type": "code",
   "execution_count": null,
   "metadata": {},
   "outputs": [],
   "source": [
    "query = \"上海市2024年工作报告中提到新增就业岗位多少个？\"# 新增就业岗位60.6万个\n",
    "relevant_docs = vector_store.similarity_search(query)\n",
    "relevant_docs"
   ]
  },
  {
   "cell_type": "markdown",
   "metadata": {},
   "source": [
    "## LLM"
   ]
  },
  {
   "cell_type": "code",
   "execution_count": null,
   "metadata": {},
   "outputs": [],
   "source": [
    "from langchain_community.llms import Ollama\n",
    "from langchain.schema import SystemMessage, HumanMessage\n",
    "\n",
    "llm = Ollama(model=\"deepseek-r1:7b\", temperature=0)\n",
    "\n",
    "# prompt = [SystemMessage(\"You are a helpful assistant\"), HumanMessage(\"Who are you?\")]\n",
    "# print(llm.invoke(prompt))"
   ]
  },
  {
   "cell_type": "markdown",
   "metadata": {},
   "source": [
    "### 手动实现"
   ]
  },
  {
   "cell_type": "code",
   "execution_count": null,
   "metadata": {},
   "outputs": [],
   "source": [
    "context = \"\\n\\n\".join([doc.page_content for doc in relevant_docs])\n",
    "PROMPT = f\"\"\"\n",
    "你是一个智能助手，擅长从提供的背景知识中提取关键信息来回答问题。\n",
    "请根据以下提供的背景知识回答问题，如果无法找到答案，请直接说“我不知道”。\n",
    "\n",
    "背景知识：\n",
    "{context}\n",
    "\n",
    "问题：\n",
    "{query}\n",
    "\n",
    "答案：\n",
    "\"\"\"\n",
    "\n",
    "query = \"上海市2024年工作报告中提到新增就业岗位多少个？\"# 新增就业岗位60.6万个\n",
    "relevant_docs = vector_store.similarity_search(query)\n",
    "context = \"\\n\\n\".join([doc.page_content for doc in relevant_docs])\n",
    "answer = llm.invoke(\n",
    "    PROMPT.format(context=context, query=query).lstrip()\n",
    ")\n",
    "\n",
    "print(answer)"
   ]
  },
  {
   "cell_type": "markdown",
   "metadata": {},
   "source": [
    "### langchain封装RAG问答模块"
   ]
  },
  {
   "cell_type": "code",
   "execution_count": null,
   "metadata": {},
   "outputs": [],
   "source": [
    "from langchain.chains import RetrievalQA\n",
    "\n",
    "\n",
    "# 创建 RAG QA Chain\n",
    "qa = RetrievalQA.from_chain_type(llm=llm, chain_type=\"stuff\", retriever=vector_store.as_retriever())\n",
    "\n",
    "# 直接提问\n",
    "query = \"上海市2024年工作报告中提到新增就业岗位多少个？\"\n",
    "answer = qa.invoke(query)\n",
    "\n",
    "print(answer)\n"
   ]
  },
  {
   "cell_type": "code",
   "execution_count": null,
   "metadata": {},
   "outputs": [],
   "source": [
    "from pprint import pprint"
   ]
  },
  {
   "cell_type": "code",
   "execution_count": null,
   "metadata": {},
   "outputs": [],
   "source": [
    "print({'query': '上海市2024年工作报告中提到新增就业岗位多少个？', 'result': '<think>\\n好的，我现在需要回答用户的问题：上海市2024年政府工作报告中提到新增就业岗位多少个？\\n\\n首先，我查看了提供的上下文。在2024年的报告中有两段提到了新增就业岗位的情况。\\n\\n第一段提到：“完善创业担保贷款、职业培训补贴等稳就业政策，城镇新增就业55万人以上。”这里明确指出新增就业岗位超过55万。\\n\\n接着，在同一报告的另一部分中说：“公共就业招聘新平台上线运行，新增就业岗位60.6万个。”这进一步确认了新增就业岗位的数量是60.6万个。\\n\\n现在，我需要将这两个数字整合起来。虽然第一段用了“以上”，但第二段给出了具体的数字，所以更准确的是以60.6万为准。\\n</think>\\n\\n上海市2024年政府工作报告中提到新增就业岗位60.6万个。'}[\"result\"]\n",
    ")"
   ]
  },
  {
   "cell_type": "code",
   "execution_count": null,
   "metadata": {},
   "outputs": [],
   "source": [
    "1"
   ]
  }
 ],
 "metadata": {
  "kernelspec": {
   "display_name": "llm",
   "language": "python",
   "name": "python3"
  },
  "language_info": {
   "codemirror_mode": {
    "name": "ipython",
    "version": 3
   },
   "file_extension": ".py",
   "mimetype": "text/x-python",
   "name": "python",
   "nbconvert_exporter": "python",
   "pygments_lexer": "ipython3",
   "version": "3.11.7"
  }
 },
 "nbformat": 4,
 "nbformat_minor": 2
}
